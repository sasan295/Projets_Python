{
  "nbformat": 4,
  "nbformat_minor": 0,
  "metadata": {
    "colab": {
      "name": "Pdf_Highlighter.ipynb",
      "provenance": []
    },
    "kernelspec": {
      "name": "python3",
      "display_name": "Python 3"
    },
    "language_info": {
      "name": "python"
    }
  },
  "cells": [
    {
      "cell_type": "code",
      "metadata": {
        "colab": {
          "base_uri": "https://localhost:8080/"
        },
        "id": "qXXIopO6pGMR",
        "outputId": "7814d9a4-8cd2-40e5-c63c-ebf5610c95df"
      },
      "source": [
        "pip install PyMuPDF==1.18.9"
      ],
      "execution_count": 2,
      "outputs": [
        {
          "output_type": "stream",
          "text": [
            "Collecting PyMuPDF==1.18.9\n",
            "  Downloading PyMuPDF-1.18.9-cp37-cp37m-manylinux2010_x86_64.whl (6.4 MB)\n",
            "\u001b[K     |████████████████████████████████| 6.4 MB 5.6 MB/s \n",
            "\u001b[?25hInstalling collected packages: PyMuPDF\n",
            "Successfully installed PyMuPDF-1.18.9\n"
          ],
          "name": "stdout"
        }
      ]
    },
    {
      "cell_type": "code",
      "metadata": {
        "id": "oQu1W5eeLCeH"
      },
      "source": [
        "# Import Libraries\n",
        "from typing import Tuple\n",
        "from io import BytesIO\n",
        "import os\n",
        "import re\n",
        "import fitz"
      ],
      "execution_count": 12,
      "outputs": []
    },
    {
      "cell_type": "code",
      "metadata": {
        "id": "sUHzKnZ2Obb4"
      },
      "source": [
        "def extract_info(input_file: str):\n",
        "    \"\"\"\n",
        "    Extracts file info\n",
        "    \"\"\"\n",
        "    # Open the PDF\n",
        "    pdfDoc = fitz.open(input_file)\n",
        "    output = {\n",
        "        \"File\": input_file, \"Encrypted\": (\"True\" if pdfDoc.isEncrypted else \"False\")\n",
        "    }\n",
        "    # If PDF is encrypted the file metadata cannot be extracted\n",
        "    if not pdfDoc.isEncrypted:\n",
        "        for key, value in pdfDoc.metadata.items():\n",
        "            output[key] = value\n",
        "    # To Display File Info\n",
        "    print(\"## File Information ##################################################\")\n",
        "    print(\"\\n\".join(\"{}:{}\".format(i, j) for i, j in output.items()))\n",
        "    print(\"######################################################################\")\n",
        "    return True, output"
      ],
      "execution_count": 13,
      "outputs": []
    },
    {
      "cell_type": "code",
      "metadata": {
        "id": "CeYm3sY4OhOk"
      },
      "source": [
        "def search_for_text(lines, search_str):\n",
        "    \"\"\"\n",
        "    Search for the search string within the document lines\n",
        "    \"\"\"\n",
        "    for line in lines:\n",
        "        # Find all matches within one line\n",
        "        results = re.findall(search_str, line, re.IGNORECASE)\n",
        "        # In case multiple matches within one line\n",
        "        for result in results:\n",
        "            yield result"
      ],
      "execution_count": 14,
      "outputs": []
    },
    {
      "cell_type": "code",
      "metadata": {
        "id": "X7abXepuOkD_"
      },
      "source": [
        "def redact_matching_data(page, matched_values):\n",
        "    \"\"\"\n",
        "    Redacts matching values\n",
        "    \"\"\"\n",
        "    matches_found = 0\n",
        "    # Loop throughout matching values\n",
        "    for val in matched_values:\n",
        "        matches_found += 1\n",
        "        matching_val_area = page.searchFor(val)\n",
        "        # Redact matching values\n",
        "        [page.addRedactAnnot(area, text=\" \", fill=(0, 0, 0))\n",
        "         for area in matching_val_area]\n",
        "    # Apply the redaction\n",
        "    page.apply_redactions()\n",
        "    return matches_found"
      ],
      "execution_count": 15,
      "outputs": []
    },
    {
      "cell_type": "code",
      "metadata": {
        "id": "yY8xfbc4Omcm"
      },
      "source": [
        "def frame_matching_data(page, matched_values):\n",
        "    \"\"\"\n",
        "    frames matching values\n",
        "    \"\"\"\n",
        "    matches_found = 0\n",
        "    # Loop throughout matching values\n",
        "    for val in matched_values:\n",
        "        matches_found += 1\n",
        "        matching_val_area = page.searchFor(val)\n",
        "        for area in matching_val_area:\n",
        "            if isinstance(area, fitz.fitz.Rect):\n",
        "                # Draw a rectangle around matched values\n",
        "                annot = page.addRectAnnot(area)\n",
        "                # , fill = fitz.utils.getColor('black')\n",
        "                annot.setColors(stroke=fitz.utils.getColor('red'))\n",
        "                # If you want to remove matched data\n",
        "                #page.addFreetextAnnot(area, ' ')\n",
        "                annot.update()\n",
        "    return matches_found"
      ],
      "execution_count": 16,
      "outputs": []
    },
    {
      "cell_type": "code",
      "metadata": {
        "id": "BAFXvV5QOpvW"
      },
      "source": [
        "def highlight_matching_data(page, matched_values, type):\n",
        "    \"\"\"\n",
        "    Highlight matching values\n",
        "    \"\"\"\n",
        "    matches_found = 0\n",
        "    # Loop throughout matching values\n",
        "    for val in matched_values:\n",
        "        matches_found += 1\n",
        "        matching_val_area = page.searchFor(val)\n",
        "        # print(\"matching_val_area\",matching_val_area)\n",
        "        highlight = None\n",
        "        if type == 'Highlight':\n",
        "            highlight = page.addHighlightAnnot(matching_val_area)\n",
        "        elif type == 'Squiggly':\n",
        "            highlight = page.addSquigglyAnnot(matching_val_area)\n",
        "        elif type == 'Underline':\n",
        "            highlight = page.addUnderlineAnnot(matching_val_area)\n",
        "        elif type == 'Strikeout':\n",
        "            highlight = page.addStrikeoutAnnot(matching_val_area)\n",
        "        else:\n",
        "            highlight = page.addHighlightAnnot(matching_val_area)\n",
        "        # To change the highlight color\n",
        "        # highlight.setColors({\"stroke\":(0,0,1),\"fill\":(0.75,0.8,0.95) })\n",
        "        # highlight.setColors(stroke = fitz.utils.getColor('white'), fill = fitz.utils.getColor('red'))\n",
        "        # highlight.setColors(colors= fitz.utils.getColor('red'))\n",
        "        highlight.update()\n",
        "    return matches_found"
      ],
      "execution_count": 17,
      "outputs": []
    },
    {
      "cell_type": "code",
      "metadata": {
        "id": "Y1jS5rotOt_s"
      },
      "source": [
        "def process_data(input_file: str, output_file: str, search_str: str, pages: Tuple = None, action: str = 'Highlight'):\n",
        "    \"\"\"\n",
        "    Process the pages of the PDF File\n",
        "    \"\"\"\n",
        "    # Open the PDF\n",
        "    pdfDoc = fitz.open(input_file)\n",
        "    # Save the generated PDF to memory buffer\n",
        "    output_buffer = BytesIO()\n",
        "    total_matches = 0\n",
        "    # Iterate through pages\n",
        "    for pg in range(pdfDoc.pageCount):\n",
        "        # If required for specific pages\n",
        "        if pages:\n",
        "            if str(pg) not in pages:\n",
        "                continue\n",
        "        # Select the page\n",
        "        page = pdfDoc[pg]\n",
        "        # Get Matching Data\n",
        "        # Split page by lines\n",
        "        page_lines = page.getText(\"text\").split('\\n')\n",
        "        matched_values = search_for_text(page_lines, search_str)\n",
        "        if matched_values:\n",
        "            if action == 'Redact':\n",
        "                matches_found = redact_matching_data(page, matched_values)\n",
        "            elif action == 'Frame':\n",
        "                matches_found = frame_matching_data(page, matched_values)\n",
        "            elif action in ('Highlight', 'Squiggly', 'Underline', 'Strikeout'):\n",
        "                matches_found = highlight_matching_data(\n",
        "                    page, matched_values, action)\n",
        "            else:\n",
        "                matches_found = highlight_matching_data(\n",
        "                    page, matched_values, 'Highlight')\n",
        "            total_matches += matches_found\n",
        "    print(f\"{total_matches} Match(es) Found of Search String {search_str} In Input File: {input_file}\")\n",
        "    # Save to output\n",
        "    pdfDoc.save(output_buffer)\n",
        "    pdfDoc.close()\n",
        "    # Save the output buffer to the output file\n",
        "    with open(output_file, mode='wb') as f:\n",
        "        f.write(output_buffer.getbuffer())"
      ],
      "execution_count": 18,
      "outputs": []
    },
    {
      "cell_type": "code",
      "metadata": {
        "id": "FngAx888OxnJ"
      },
      "source": [
        "def remove_highlight(input_file: str, output_file: str, pages: Tuple = None):\n",
        "    # Open the PDF\n",
        "    pdfDoc = fitz.open(input_file)\n",
        "    # Save the generated PDF to memory buffer\n",
        "    output_buffer = BytesIO()\n",
        "    # Initialize a counter for annotations\n",
        "    annot_found = 0\n",
        "    # Iterate through pages\n",
        "    for pg in range(pdfDoc.pageCount):\n",
        "        # If required for specific pages\n",
        "        if pages:\n",
        "            if str(pg) not in pages:\n",
        "                continue\n",
        "        # Select the page\n",
        "        page = pdfDoc[pg]\n",
        "        annot = page.firstAnnot\n",
        "        while annot:\n",
        "            annot_found += 1\n",
        "            page.deleteAnnot(annot)\n",
        "            annot = annot.next\n",
        "    if annot_found >= 0:\n",
        "        print(f\"Annotation(s) Found In The Input File: {input_file}\")\n",
        "    # Save to output\n",
        "    pdfDoc.save(output_buffer)\n",
        "    pdfDoc.close()\n",
        "    # Save the output buffer to the output file\n",
        "    with open(output_file, mode='wb') as f:\n",
        "        f.write(output_buffer.getbuffer())"
      ],
      "execution_count": 59,
      "outputs": []
    },
    {
      "cell_type": "code",
      "metadata": {
        "colab": {
          "base_uri": "https://localhost:8080/"
        },
        "id": "ktCL7FlVO4Mw",
        "outputId": "82fa0d1e-b3b8-4513-a9ce-98603f92c021"
      },
      "source": [
        "if __name__ == '__main__':\n",
        "    input_file = input(\"please enter the full path of input file: \")\n",
        "    page = int(input(\"please enter the number of pages of your pdf file: \"))\n",
        "    pages = ['0']\n",
        "    for x in range(1 , page):\n",
        "        pages.append(str(x))\n",
        "    pages = tuple(pages)\n",
        "    \n",
        "    search_keyword = input(\"please enter the keyword for search: \")\n",
        "    output_file = 'output.pdf'\n",
        "\n",
        "    \n",
        "    vaccines = [\"Pfizer\", \"Moderna\", \"AstraZeneca\"]\n",
        "\n",
        "    if search_keyword != \"vaccines\":\n",
        "      process_data(input_file, input_file, search_keyword, pages, 'Highlight')\n",
        "    else:\n",
        "        for item in vaccines:\n",
        "            process_data(input_file, input_file, item, pages, 'Highlight')"
      ],
      "execution_count": 57,
      "outputs": [
        {
          "output_type": "stream",
          "text": [
            "please enter the full path of input file: /content/Covide19_vaccines.pdf\n",
            "please enter the number of pages of your pdf file: 19\n",
            "please enter the keyword for search: vaccines\n",
            "5 Match(es) Found of Search String Pfizer In Input File: /content/Covide19_vaccines.pdf\n",
            "3 Match(es) Found of Search String Moderna In Input File: /content/Covide19_vaccines.pdf\n",
            "3 Match(es) Found of Search String AstraZeneca In Input File: /content/Covide19_vaccines.pdf\n"
          ],
          "name": "stdout"
        }
      ]
    },
    {
      "cell_type": "code",
      "metadata": {
        "colab": {
          "base_uri": "https://localhost:8080/"
        },
        "id": "UmSuxWxliLhW",
        "outputId": "02b8fb8b-e91c-41eb-96e8-b6a3a4d95d2e"
      },
      "source": [
        "if __name__ == '__main__':\n",
        "  remove_highlight = remove_highlight(input_file, input_file, pages)"
      ],
      "execution_count": 60,
      "outputs": [
        {
          "output_type": "stream",
          "text": [
            "Annotation(s) Found In The Input File: /content/Covide19_vaccines.pdf\n"
          ],
          "name": "stdout"
        }
      ]
    },
    {
      "cell_type": "code",
      "metadata": {
        "id": "RBWSLvlfkvCF"
      },
      "source": [
        ""
      ],
      "execution_count": null,
      "outputs": []
    }
  ]
}