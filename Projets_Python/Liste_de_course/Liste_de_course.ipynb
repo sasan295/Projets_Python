{
  "nbformat": 4,
  "nbformat_minor": 0,
  "metadata": {
    "colab": {
      "name": "Liste_de_course.ipynb",
      "provenance": [],
      "collapsed_sections": []
    },
    "kernelspec": {
      "name": "python3",
      "display_name": "Python 3"
    }
  },
  "cells": [
    {
      "cell_type": "code",
      "metadata": {
        "id": "nUpI07bBuGLk"
      },
      "source": [
        "import sys\n",
        "import random\n",
        "import json\n",
        "import os\n"
      ],
      "execution_count": 1,
      "outputs": []
    },
    {
      "cell_type": "code",
      "metadata": {
        "id": "KnJLhkm94Rkx"
      },
      "source": [
        "#Récupérer le chemin complet du fichier json\n",
        "fichier = r\"C:\\Users\\cabid\\Documents\\1ERE_ANNEE\\Udemy\\Python\\json\\list.json\"\n"
      ],
      "execution_count": 2,
      "outputs": []
    },
    {
      "cell_type": "code",
      "metadata": {
        "id": "UxVVCO5_uK8k"
      },
      "source": [
        "#Afficher la liste si elle existe\n",
        "if os.path.exists(fichier):\n",
        "  with open(\"list.json\", \"r\") as f:\n",
        "    liste = json.load(f)\n",
        "\n",
        "else:\n",
        "  print(\"Ne trouve pas le fichier !\")\n",
        "  liste = []\n",
        "\n",
        "\n",
        "#Initiation du script de la liste de course\n",
        "choix = ''''''\n",
        "\n",
        "while True:\n",
        "    choix = input('''Choisissez parmi les options suivantes :\n",
        "1: Ajouter un élément à la liste de courses\n",
        "2: Retirer un élément de la liste de courses\n",
        "3: Afficher les éléments de la liste de courses\n",
        "4: Vider la liste de courses\n",
        "5: Quitter le programme\n",
        "\n",
        "👉 Votre choix : ''')\n",
        "    \n",
        "\n",
        "    if not choix.isdigit():\n",
        "        print(\"Votre choix est incorrect\")\n",
        "        continue    \n",
        "\n",
        "    if choix == \"1\":\n",
        "        element = input(\"Entrez le nom de l'élément à ajouter : \")\n",
        "        liste.append(element)\n",
        "        print(f\"L'élément {element} a bien été ajouté à la liste.\")\n",
        "        \n",
        "    elif choix == \"2\":\n",
        "        element = input(\"Entrez le nom de l'élément à retirer : \")\n",
        "        if element not in liste:\n",
        "            print(\"Cet élémet n'est pas contenu dans la liste.\")\n",
        "        else:\n",
        "            liste.remove(element)\n",
        "            \n",
        "    elif choix == \"3\":\n",
        "        for nb, item in enumerate(liste, 1):\n",
        "            print(f\"{nb}. {item}\")\n",
        "    \n",
        "    elif choix == \"4\":\n",
        "        liste.clear()\n",
        "        print(\"La liste a été vidé de son contenu.\")\n",
        "    \n",
        "    elif choix == \"5\":\n",
        "        with open(fichier, \"w\") as f:\n",
        "            json.dump(liste, f, indent=4)\n",
        "        break\n",
        "                \n",
        "    print(\"-\" * 100)\n"
      ],
      "execution_count": null,
      "outputs": []
    }
  ]
}