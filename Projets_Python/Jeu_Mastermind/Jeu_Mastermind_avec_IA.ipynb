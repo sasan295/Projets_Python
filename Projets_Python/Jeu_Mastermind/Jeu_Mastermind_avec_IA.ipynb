{
  "nbformat": 4,
  "nbformat_minor": 0,
  "metadata": {
    "colab": {
      "name": "Jeu_Mastermind_avec_IA2.ipynb",
      "provenance": [],
      "collapsed_sections": []
    },
    "kernelspec": {
      "name": "python3",
      "display_name": "Python 3"
    }
  },
  "cells": [
    {
      "cell_type": "code",
      "metadata": {
        "id": "zhO2EKivDuwp"
      },
      "source": [
        "import random\n",
        "import numpy as np\n",
        "import itertools\n",
        "import sys\n",
        "from sys import exit"
      ],
      "execution_count": 189,
      "outputs": []
    },
    {
      "cell_type": "code",
      "metadata": {
        "id": "6DracnhBRLTe"
      },
      "source": [
        "##########################################################################################################\n",
        "################################   PARAMETRES GENERAUX   #################################################\n",
        "\n",
        "class MasterMind:\n",
        "  def __init__(self):\n",
        " # PARAMETRES DU JEU\n",
        "    self.couleurs = [\"rouge\", \"jaune\", \"bleu\", \"orange\", \"vert\", \"blanc\", \"violet\", \"rose\"]\n",
        "    self.coups = 12\n",
        "    self.combinaisons = list(itertools.permutations(self.couleurs, 4))\n",
        "\n",
        "  def first_player(self):\n",
        "    choix = str(input(\"Voulez-vous  rechercher la combinaison secrète (choix 1) ou proposer une combinaison secrète ? (choix 2) : \"))\n",
        "    while str(choix) != \"1\" and str(choix) != \"2\":\n",
        "      print(\"Votre réponse est incorrecte !\")\n",
        "      choix = str(input(\"Voulez-vous proposer une combinaison secrète (choix 1) ou rechercher la combinaison secrète ? (choix 2) : \"))\n",
        "      \n",
        "    if choix == \"1\":\n",
        "      print(\"Vous êtes celui qui recherche la combinaison secrète !\")\n",
        "      joueur_proposeur = Joueur_Proposeur()\n",
        "      joueur_proposeur.joueur()\n",
        "\n",
        "    elif choix == \"2\":\n",
        "      print(\"Vous êtes celui qui propose la combinaison secrète !\")\n",
        "      ia_proposeur = IA_Proposeur()\n",
        "      ia_proposeur.proposition_IA()\n",
        "      ia_proposeur.proposition_combinaison()\n",
        "    \n",
        "  def verification(self, proposition, combinaison_secrete):\n",
        "  # INDICATIONS DES POSITIONS DES COULEURS : NOMBRE DE BIEN PLACES ET MAL PLACES\n",
        "    self.verification = []\n",
        "    self.bien_place = 0\n",
        "    self.mal_place = 0\n",
        "\n",
        "  # SAUVEGARDE DES BONNES COULEURS\n",
        "    for i in range(4):\n",
        "      if proposition[i] == combinaison_secrete[i]:\n",
        "        self.verification += [\"BP\"]\n",
        "      else:\n",
        "        if proposition[i] in combinaison_secrete and proposition.count(proposition[i]) < 2:\n",
        "          self.verification += [\"MP\"]  \n",
        "\n",
        "    self.bien_place += self.verification.count(\"BP\")\n",
        "    self.mal_place += self.verification.count(\"MP\")\n",
        "    return self.verification \n",
        "\n",
        "  def proposition_combinaison(self):\n",
        "  # LE JOUEUR PROPOSE SA COMBINAISON DE COULEURS\n",
        "    self.liste_couleurs = []\n",
        "    for k in range(1, 5):\n",
        "      couleur = input(f\"Couleur {k} : \")\n",
        "      while couleur.lower() not in self.couleurs:\n",
        "        print(f\" Choisissez votre couleur parmi la liste suivante :{self.couleurs}\")\n",
        "        couleur = input(f\"Couleur {k} : \")\n",
        "      self.liste_couleurs.append(couleur.lower())\n",
        "    \n",
        "  def rejouer(self):\n",
        "      rejouer = input(\"Voulez-vous rejouer ? O/N : \").lower()\n",
        "      while rejouer != \"o\" and rejouer != \"n\":\n",
        "        print(\"Votre réponse n'est pas correcte 😕\")\n",
        "        rejouer = input(\"Voulez-vous rejouer ? O/N : \").lower()\n",
        "\n",
        "      if rejouer == \"o\":\n",
        "        mastermind = MasterMind()\n",
        "        mastermind.first_player()\n",
        "\n",
        "      elif rejouer == \"n\":\n",
        "        exit(\"Merci d'avoir jouer 😊\")\n"
      ],
      "execution_count": 208,
      "outputs": []
    },
    {
      "cell_type": "code",
      "metadata": {
        "id": "TETLOLFNRbgl"
      },
      "source": [
        "##########################################################################################################\n",
        "#########################   L'IA EMET UNE COMBINAISON SECRETE ET LE JOUEUR LA DEVINE   ###################\n",
        "\n",
        "class Joueur_Proposeur(MasterMind):\n",
        "  def __init__(self):\n",
        " # ELABORATION DE LA COMBINAISON SECRETE PAR L'IA\n",
        "    MasterMind.__init__(self)\n",
        "    self.combinaison_secrete = list(random.choice(self.combinaisons))\n",
        "\n",
        "  def joueur(self):\n",
        "  # LE JOUEUR PROPOSE SA COMBINAISON DE COULEURS\n",
        "    MasterMind.proposition_combinaison(self)\n",
        "    proposition = self.liste_couleurs\n",
        "    self.coups -= 1\n",
        "    print(f\"Proposition du joueur N° {12-self.coups} du joueur : \", proposition)\n",
        "    MasterMind.verification(self, proposition, self.combinaison_secrete)\n",
        "\n",
        "    if self.verification == [\"BP\", \"BP\", \"BP\", \"BP\"]:\n",
        "      print(\"La combinaison secrète a été trouvée 😊\")\n",
        "      self.coups -= self.coups\n",
        "      self.rejouer()\n",
        "\n",
        "    if self.coups > 0:\n",
        "      print(f\"Ce n'est pas la bonne combinaison. Essayez encore ! Il vous reste {self.coups} essai(s) 😉\")\n",
        "      print(\"Nombre bien placés : \", self.bien_place)\n",
        "      print(\"Nombre mal placés : \", self.mal_place)\n",
        "      self.joueur()\n",
        "\n",
        "    elif self.coups == 0 and self.verification != [\"BP\", \"BP\", \"BP\", \"BP\"]:\n",
        "      print(f\"La combinaison secrète n'a pas été trouvée 🙃 Là voici --> {self.combinaison_secrete}\")\n",
        "      self.rejouer()\n",
        "\n"
      ],
      "execution_count": 209,
      "outputs": []
    },
    {
      "cell_type": "code",
      "metadata": {
        "id": "88RypAGxVhPq"
      },
      "source": [
        "######################################################################################################\n",
        "###################### LE JOUEUR EMET UNE COMBINAISON SECRETE QUE L'IA DEVINE   ######################\n",
        "\n",
        "class IA_Proposeur(MasterMind):\n",
        "  def __init__(self):\n",
        "  # ELABORATION DE LA COMBINAISON SECRETE PAR LE JOUEUR\n",
        "    MasterMind.__init__(self)\n",
        "    MasterMind.proposition_combinaison(self)\n",
        "    self.combinaison_secrete = self.liste_couleurs\n",
        "\n",
        "  def proposition_IA(self):\n",
        "    while self.coups != 0:\n",
        "      proposition = list(random.choice(self.combinaisons))\n",
        "      self.coups -= 1\n",
        "      print(f\"Proposition IA N° {12 - self.coups} : \", proposition)\n",
        "\n",
        "      MasterMind.verification(self, proposition, self.combinaison_secrete)\n",
        "      verification_proposition = self.verification\n",
        "\n",
        "      if verification_proposition == [\"BP\", \"BP\", \"BP\", \"BP\"]:\n",
        "        print(\"La combinaison secrète a été trouvée 😊\")\n",
        "        self.coups -= self.coups\n",
        "        self.rejouer()\n",
        "        break\n",
        "\n",
        "      new_combinaisons = []\n",
        "      for i in self.combinaisons:\n",
        "        if MasterMind.verification(self, proposition, i) == verification_proposition:\n",
        "          new_combinaisons.append(i)\n",
        "      self.combinaisons = new_combinaisons\n",
        "      self.proposition_IA()\n",
        "    \n",
        "    if self.coups == 0:\n",
        "      print(\"La combinaison secrète n'a pas été trouvée 🙃 Vous avez battu l'IA !\")\n",
        "      self.rejouer()\n"
      ],
      "execution_count": 210,
      "outputs": []
    },
    {
      "cell_type": "code",
      "metadata": {
        "id": "9s9-kzY5D2zU"
      },
      "source": [
        "mastermind = MasterMind()\n",
        "mastermind.first_player()"
      ],
      "execution_count": null,
      "outputs": []
    },
    {
      "cell_type": "code",
      "metadata": {
        "id": "gkLAiaRj4WGS"
      },
      "source": [
        ""
      ],
      "execution_count": null,
      "outputs": []
    }
  ]
}