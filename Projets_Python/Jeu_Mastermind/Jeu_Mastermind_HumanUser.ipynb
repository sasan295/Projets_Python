{
  "nbformat": 4,
  "nbformat_minor": 0,
  "metadata": {
    "colab": {
      "name": "Jeu_Mastermind_HumanUser.ipynb",
      "provenance": [],
      "collapsed_sections": []
    },
    "kernelspec": {
      "name": "python3",
      "display_name": "Python 3"
    },
    "language_info": {
      "name": "python"
    }
  },
  "cells": [
    {
      "cell_type": "code",
      "metadata": {
        "id": "zhO2EKivDuwp"
      },
      "source": [
        "import random\n",
        "import numpy as np\n",
        "import itertools"
      ],
      "execution_count": 7,
      "outputs": []
    },
    {
      "cell_type": "code",
      "metadata": {
        "id": "vWmgpXXb_GNn"
      },
      "source": [
        "class MasterMind:\n",
        "    def __init__(self):\n",
        "\n",
        " # PARAMETRES DU JEU \n",
        "      self.couleurs = [\"rouge\", \"jaune\", \"bleu\", \"orange\", \"vert\", \"blanc\", \"violet\", \"rose\"]\n",
        "      self.coups = 12 \n",
        "\n",
        " # ELABORATION DE LA COMBINAISON SECRETE\n",
        "      self.combinaisons = list(itertools.permutations(self.couleurs, 4))\n",
        "      self.combinaison_secrete = list(random.choice(self.combinaisons))\n",
        "    \n",
        "    def proposition_combinaison(self):\n",
        " # PREMIERE PROPOSITION DE COMBINAISON DE COULEURS\n",
        "      self.proposition_joueur = []\n",
        "      print(\"Proposez votre combinaison de couleurs en les écrivant une à une.\")\n",
        "      for k in range(1, 5):\n",
        "        self.couleur_ = input(f\"Couleur {k} : \")\n",
        "        while self.couleur_.lower() not in self.couleurs:\n",
        "          print(f\" Choisissez votre couleur parmi la liste suivante :{self.couleurs}\")\n",
        "          self.couleur_ = input(f\"Couleur {k} : \")\n",
        "        self.proposition_joueur.append(self.couleur_.lower())\n",
        "      self.coups -= 1\n",
        "    \n",
        "    def evaluation(self):\n",
        "  # INDICATIONS DES POSITIONS DES COULEURS : NOMBRE DE BIEN PLACES ET MAL PLACES \n",
        "      bien_place = 0\n",
        "      mal_place = 0\n",
        "\n",
        "      if self.proposition_joueur == self.combinaison_secrete:\n",
        "        print(\"Bravo 👏 Vous avez trouvé la combinaison secrète 😊\")\n",
        "        self.rejouer()\n",
        "      \n",
        "      else:\n",
        "        for k in range(4):\n",
        "          if self.proposition_joueur[k] == self.combinaison_secrete[k]:\n",
        "            bien_place += 1\n",
        "          elif self.proposition_joueur[k] != self.combinaison_secrete[k] and self.proposition_joueur[k] in self.combinaison_secrete\\\n",
        "           and self.proposition_joueur.count(self.proposition_joueur[k]) < 2:\n",
        "            mal_place += 1\n",
        "\n",
        "        print(f\"Ce n'est pas la bonne combinaison. Essaie encore ! Il te reste {self.coups} essai(s) 😉\")\n",
        "        print(\"Nombre bien placés : \", bien_place)\n",
        "        print(\"Nombre mal placés : \", mal_place)\n",
        "        \n",
        "        while self.coups > 0:\n",
        "          self.proposition_combinaison()\n",
        "          self.evaluation()\n",
        "        \n",
        "        if self.coups == 0:\n",
        "          print(f\"Perdu 🙃 La combinaison secrète était --> {self.combinaison_secrete}\")\n",
        "          self.rejouer()\n",
        "\n",
        "    def rejouer(self):\n",
        "      rejouer = \"\"\n",
        "      rejouer = input(\"Voulez-vous rejouer ? O/N : \").lower()\n",
        "      while rejouer != \"o\" and rejouer != \"n\":\n",
        "        print(\"Votre réponse n'est pas correcte 😕\")\n",
        "        rejouer = input(\"Voulez-vous rejouer ? O/N : \").lower()\n",
        "\n",
        "      if rejouer == \"o\":\n",
        "        mastermind = MasterMind()\n",
        "        mastermind.proposition_combinaison()\n",
        "        mastermind.evaluation()\n",
        "        mastermind.rejouer()\n",
        "\n",
        "      if rejouer == \"n\":\n",
        "        print(\"Merci d'avoir jouer 😊\")\n",
        "\n",
        "mastermind = MasterMind()\n",
        "mastermind.proposition_combinaison()\n",
        "mastermind.evaluation()"
      ],
      "execution_count": null,
      "outputs": []
    }
  ]
}